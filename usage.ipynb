{
 "cells": [
  {
   "cell_type": "markdown",
   "metadata": {},
   "source": [
    "# 天津大学——蛋白质设计大赛 \n",
    "\n",
    "## 基于BERT的深度学习方法：荧光蛋白强度的预测与进化\n",
    "\n",
    "### 简介\n",
    "\n",
    "本项目旨在通过文献综述和深度学习技术，识别并进化荧光蛋白关键突变位点，并基于BERT架构精确预测荧光强度。在广泛的文献查询识别荧光蛋白中的关键突变位点基础上，结合最新的深度学习技术进行预测与进化。项目通过训练ProteinBERT模型来实现这一目标，将优化后的荧光蛋白强度数据集分为训练集、验证集和测试集，并使用自定义回调函数记录和绘制训练过程中的性能指标，最终使用该模型进行准确预测。该方法不仅提高了预测精度，还为荧光蛋白设计和应用提供了新的思路。\n"
   ]
  },
  {
   "cell_type": "markdown",
   "metadata": {},
   "source": [
    "\n",
    "### 环境设置\n",
    "\n",
    "首先，我们需要导入必要的库和模块。"
   ]
  },
  {
   "cell_type": "code",
   "execution_count": null,
   "metadata": {},
   "outputs": [],
   "source": [
    "import os\n",
    "import pandas as pd\n",
    "from tensorflow import keras\n",
    "from sklearn.model_selection import train_test_split\n",
    "from proteinbert import OutputType, OutputSpec, FinetuningModelGenerator, load_pretrained_model, finetune, InputEncoder\n",
    "from sklearn.metrics import mean_squared_error, mean_absolute_error\n",
    "import numpy as np\n",
    "import matplotlib.pyplot as plt"
   ]
  },
  {
   "cell_type": "markdown",
   "metadata": {},
   "source": [
    "### 加载数据\n",
    "\n",
    "我们将数据集从CSV文件中加载，并将其分为训练集、验证集和测试集。"
   ]
  },
  {
   "cell_type": "code",
   "execution_count": null,
   "metadata": {},
   "outputs": [],
   "source": [
    "BENCHMARKS_DIR = './data'\n",
    "DATASET_NAME = 'GFP_data_with_full_sequences'\n",
    "\n",
    "OUTPUT_TYPE = OutputType(False, 'numeric')\n",
    "OUTPUT_SPEC = OutputSpec(OUTPUT_TYPE, None)\n",
    "\n",
    "train_set_file_path = os.path.join(BENCHMARKS_DIR, f'{DATASET_NAME}.train.csv')\n",
    "train_set = pd.read_csv(train_set_file_path)\n",
    "train_set, valid_set = train_test_split(train_set, test_size=0.1, random_state=0)\n",
    "\n",
    "test_set_file_path = os.path.join(BENCHMARKS_DIR, f'{DATASET_NAME}.test.csv')\n",
    "test_set = pd.read_csv(test_set_file_path)\n",
    "\n",
    "print(f'{len(train_set)} training set records, {len(valid_set)} validation set records, {len(test_set)} test set records.')"
   ]
  },
  {
   "cell_type": "markdown",
   "metadata": {},
   "source": [
    "### 加载预训练模型\n",
    "\n",
    "我们加载预训练的ProteinBERT模型，并为微调创建模型生成器。"
   ]
  },
  {
   "cell_type": "code",
   "execution_count": null,
   "metadata": {},
   "outputs": [],
   "source": [
    "pretrained_model_generator, input_encoder = load_pretrained_model()\n",
    "model_generator = FinetuningModelGenerator(pretrained_model_generator, OUTPUT_SPEC, dropout_rate=0.5)"
   ]
  },
  {
   "cell_type": "markdown",
   "metadata": {},
   "source": [
    "### 准备验证数据\n",
    "\n",
    "我们对验证集进行编码，并提取亮度标签。"
   ]
  },
  {
   "cell_type": "code",
   "execution_count": null,
   "metadata": {},
   "outputs": [],
   "source": [
    "X_val_encoded = input_encoder.encode_X(valid_set['Full Sequence'].values, seq_len=241)\n",
    "y_val = valid_set['Brightness'].values"
   ]
  },
  {
   "cell_type": "markdown",
   "metadata": {},
   "source": [
    "### 自定义回调函数\n",
    "\n",
    "定义一个自定义回调函数，用于记录每个epoch的均方误差（MSE）和平均绝对误差（MAE），并生成相关图表。"
   ]
  },
  {
   "cell_type": "code",
   "execution_count": null,
   "metadata": {},
   "outputs": [],
   "source": [
    "class PerformanceCallback(keras.callbacks.Callback):\n",
    "    def __init__(self, X_val, y_val, log_dir='./logs'):\n",
    "        super().__init__()\n",
    "        self.X_val = X_val\n",
    "        self.y_val = y_val\n",
    "        self.log_file = os.path.join(log_dir, 'training_log.txt')\n",
    "        self.mse_plot_file = os.path.join(log_dir, 'mse_plot.png')\n",
    "        self.mae_plot_file = os.path.join(log_dir, 'mae_plot.png')\n",
    "        self.plot_file = os.path.join(log_dir, 'training_plot.png')\n",
    "        self.mse = []\n",
    "        self.mae = []\n",
    "        os.makedirs(log_dir, exist_ok=True)\n",
    "        self.initialize_log_file()\n",
    "\n",
    "    def initialize_log_file(self):\n",
    "        with open(self.log_file, 'w') as f:\n",
    "            f.write(f'New Training Session\\n{\"=\"*20}\\n')\n",
    "\n",
    "    def on_epoch_end(self, epoch, logs=None):\n",
    "        y_pred = self.model.predict(self.X_val)\n",
    "        mse = mean_squared_error(self.y_val, y_pred)\n",
    "        mae = mean_absolute_error(self.y_val, y_pred)\n",
    "        self.mse.append(mse)\n",
    "        self.mae.append(mae)\n",
    "        with open(self.log_file, 'a') as f:\n",
    "            f.write(f'Epoch {epoch + 1}: MSE = {mse}, MAE = {mae}\\n')\n",
    "        self.plot_mse()\n",
    "        self.plot_mae()\n",
    "        self.plot_metrics()\n",
    "\n",
    "    def plot_mse(self):\n",
    "        plt.figure()\n",
    "        plt.plot(range(1, len(self.mse) + 1), self.mse, label='MSE')\n",
    "        plt.xlabel('Epoch')\n",
    "        plt.ylabel('MSE')\n",
    "        plt.title('Mean Squared Error over epochs')\n",
    "        plt.legend()\n",
    "        plt.savefig(self.mse_plot_file)\n",
    "        plt.close()\n",
    "\n",
    "    def plot_mae(self):\n",
    "        plt.figure()\n",
    "        plt.plot(range(1, len(self.mae) + 1), self.mae, label='MAE')\n",
    "        plt.xlabel('Epoch')\n",
    "        plt.ylabel('MAE')\n",
    "        plt.title('Mean Absolute Error over epochs')\n",
    "        plt.legend()\n",
    "        plt.savefig(self.mae_plot_file)\n",
    "        plt.close()\n",
    "\n",
    "    def plot_metrics(self):\n",
    "        plt.figure()\n",
    "        plt.plot(range(1, len(self.mse) + 1), self.mse, label='MSE')\n",
    "        plt.plot(range(1, len(self.mae) + 1), self.mae, label='MAE')\n",
    "        plt.xlabel('Epoch')\n",
    "        plt.ylabel('Loss')\n",
    "        plt.title('MSE and MAE over epochs')\n",
    "        plt.legend()\n",
    "        plt.savefig(self.plot_file)\n",
    "        plt.close()"
   ]
  },
  {
   "cell_type": "markdown",
   "metadata": {},
   "source": [
    "### 微调模型\n",
    "\n",
    "定义训练回调函数，并开始微调模型。"
   ]
  },
  {
   "cell_type": "code",
   "execution_count": null,
   "metadata": {},
   "outputs": [],
   "source": [
    "training_callbacks = [\n",
    "    keras.callbacks.ReduceLROnPlateau(patience=1, factor=0.25, min_lr=1e-05, verbose=1),\n",
    "    keras.callbacks.EarlyStopping(patience=5, restore_best_weights=True),\n",
    "    PerformanceCallback(X_val_encoded, y_val)\n",
    "]\n",
    "\n",
    "finetuned_model = finetune(\n",
    "    model_generator,\n",
    "    input_encoder,\n",
    "    OUTPUT_SPEC,\n",
    "    train_set['Full Sequence'],\n",
    "    train_set['Brightness'],\n",
    "    valid_set['Full Sequence'],\n",
    "    valid_set['Brightness'],\n",
    "    seq_len=241,\n",
    "    batch_size=128,\n",
    "    max_epochs_per_stage=75,\n",
    "    lr=1e-04,\n",
    "    begin_with_frozen_pretrained_layers=True,\n",
    "    lr_with_frozen_pretrained_layers=1e-02,\n",
    "    n_final_epochs=10,\n",
    "    final_seq_len=241,\n",
    "    final_lr=1e-05,\n",
    "    callbacks=training_callbacks\n",
    ")"
   ]
  },
  {
   "cell_type": "markdown",
   "metadata": {},
   "source": [
    "### 保存模型\n",
    "\n",
    "微调完成后，保存最终的模型。"
   ]
  },
  {
   "cell_type": "code",
   "execution_count": null,
   "metadata": {},
   "outputs": [],
   "source": [
    "finetuned_model.save('./saved_model')"
   ]
  },
  {
   "cell_type": "markdown",
   "metadata": {},
   "source": [
    "### 使用训练后的模型进行预测\n",
    "\n",
    "加载微调后的模型并对新的数据集进行预测。"
   ]
  },
  {
   "cell_type": "code",
   "execution_count": null,
   "metadata": {},
   "outputs": [],
   "source": [
    "# 指定数据集的路径和名称\n",
    "PREDICTION_DIR = './predict/predict_data'\n",
    "PREDICTION_RESULT_DIR = './predict/predict_result'\n",
    "DATASET_NAME = 'seq'\n",
    "\n",
    "# 加载数据集\n",
    "test_set_file_path = os.path.join(PREDICTION_DIR, f'{DATASET_NAME}.predict.csv')\n",
    "test_set = pd.read_csv(test_set_file_path)\n",
    "\n",
    "# 加载预训练模型和输入编码器\n",
    "pretrained_model_generator, input_encoder = load_pretrained_model()\n",
    "\n",
    "# 加载模型\n",
    "model = keras.models.load_model('./saved_model')\n",
    "\n",
    "# 编码测试集序列\n",
    "X_test_encoded = input_encoder.encode_X(test_set['Full Sequence'].values, seq_len=241)\n",
    "\n",
    "# 使用模型进行预测\n",
    "predictions = model.predict(X_test_encoded, batch_size=32).flatten()\n",
    "\n",
    "# 输出预测结果\n",
    "for i, prediction in enumerate(predictions):\n",
    "    print(f'序列 {i+1} 的预测发光强度: {prediction}')\n",
    "\n",
    "# 创建一个DataFrame来保存序列和预测的发光强度\n",
    "results_df = pd.DataFrame({\n",
    "    'Full Sequence': test_set['Full Sequence'].values,\n",
    "    'Predicted Brightness': predictions\n",
    "})\n",
    "\n",
    "# 将结果保存到CSV文件\n",
    "results_df.to_csv(os.path.join(PREDICTION_RESULT_DIR, f'{DATASET_NAME}.predictions.csv'), index=False)\n",
    "\n",
    "print(f'预测结果已保存到 {os.path.join(PREDICTION_RESULT_DIR, DATASET_NAME + \"predictions.csv\")}')\n"
   ]
  }
 ],
 "metadata": {
  "language_info": {
   "name": "python"
  }
 },
 "nbformat": 4,
 "nbformat_minor": 2
}
